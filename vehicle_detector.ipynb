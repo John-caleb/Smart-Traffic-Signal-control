{
 "cells": [
  {
   "cell_type": "code",
   "execution_count": 1,
   "id": "61f24785",
   "metadata": {},
   "outputs": [],
   "source": [
    "import cv2\n",
    "import numpy as np\n",
    "\n",
    "class VehicleDetector:\n",
    "\n",
    "    def __init__(self):\n",
    "        # Load Network\n",
    "        net = cv2.dnn.readNet(\"dnn_model/yolov4.weights\", \"dnn_model/yolov4.cfg\")\n",
    "        self.model = cv2.dnn_DetectionModel(net)\n",
    "        self.model.setInputParams(size=(832, 832), scale=1 / 255)\n",
    "\n",
    "\n",
    "        # Allow classes containing Vehicles only\n",
    "        self.classes_allowed = [2, 3, 5, 6, 7]\n",
    "\n",
    "\n",
    "    def detect_vehicles(self, img):\n",
    "        # Detect Objects\n",
    "        vehicles_boxes = []\n",
    "        class_ids, scores, boxes = self.model.detect(img, nmsThreshold=0.4)\n",
    "        for class_id, score, box in zip(class_ids, scores, boxes):\n",
    "            if score < 0.5:\n",
    "                # Skip detection with low confidence\n",
    "                continue\n",
    "\n",
    "            if class_id in self.classes_allowed:\n",
    "                vehicles_boxes.append(box)\n",
    "\n",
    "        return vehicles_boxes\n",
    "\n"
   ]
  },
  {
   "cell_type": "code",
   "execution_count": null,
   "id": "3a2c450a",
   "metadata": {},
   "outputs": [],
   "source": []
  }
 ],
 "metadata": {
  "kernelspec": {
   "display_name": "Python 3 (ipykernel)",
   "language": "python",
   "name": "python3"
  },
  "language_info": {
   "codemirror_mode": {
    "name": "ipython",
    "version": 3
   },
   "file_extension": ".py",
   "mimetype": "text/x-python",
   "name": "python",
   "nbconvert_exporter": "python",
   "pygments_lexer": "ipython3",
   "version": "3.9.12"
  }
 },
 "nbformat": 4,
 "nbformat_minor": 5
}
