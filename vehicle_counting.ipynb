{
 "cells": [
  {
   "cell_type": "code",
   "execution_count": 5,
   "id": "54fdd3ee",
   "metadata": {},
   "outputs": [
    {
     "ename": "ModuleNotFoundError",
     "evalue": "No module named 'source_code'",
     "output_type": "error",
     "traceback": [
      "\u001b[1;31m---------------------------------------------------------------------------\u001b[0m",
      "\u001b[1;31mModuleNotFoundError\u001b[0m                       Traceback (most recent call last)",
      "Input \u001b[1;32mIn [5]\u001b[0m, in \u001b[0;36m<cell line: 4>\u001b[1;34m()\u001b[0m\n\u001b[0;32m      2\u001b[0m \u001b[38;5;28;01mimport\u001b[39;00m \u001b[38;5;21;01mglob\u001b[39;00m\n\u001b[0;32m      3\u001b[0m \u001b[38;5;28;01mimport\u001b[39;00m \u001b[38;5;21;01mnumpy\u001b[39;00m \u001b[38;5;28;01mas\u001b[39;00m \u001b[38;5;21;01mnp\u001b[39;00m\n\u001b[1;32m----> 4\u001b[0m \u001b[38;5;28;01mfrom\u001b[39;00m \u001b[38;5;21;01msource_code\u001b[39;00m\u001b[38;5;21;01m.\u001b[39;00m\u001b[38;5;21;01mvehicle_detector\u001b[39;00m \u001b[38;5;28;01mimport\u001b[39;00m VehicleDetector\n\u001b[0;32m      6\u001b[0m \u001b[38;5;66;03m# class VehicleDetector:\u001b[39;00m\n\u001b[0;32m      7\u001b[0m \n\u001b[0;32m      8\u001b[0m \u001b[38;5;66;03m#     def __init__(self):\u001b[39;00m\n\u001b[1;32m   (...)\u001b[0m\n\u001b[0;32m     33\u001b[0m \n\u001b[0;32m     34\u001b[0m \u001b[38;5;66;03m# Load Veichle Detector\u001b[39;00m\n\u001b[0;32m     35\u001b[0m vd \u001b[38;5;241m=\u001b[39m VehicleDetector()\n",
      "\u001b[1;31mModuleNotFoundError\u001b[0m: No module named 'source_code'"
     ]
    }
   ],
   "source": [
    "import cv2\n",
    "import glob\n",
    "import numpy as np\n",
    "from vehicle_detector import VehicleDetector\n",
    "\n",
    "# Load Veichle Detector\n",
    "vd = VehicleDetector()\n",
    "\n",
    "# Load images from a folder\n",
    "images_folder = glob.glob(\"images/*.jpg\")\n",
    "\n",
    "vehicles_folder_count = 0\n",
    "\n",
    "# Loop through all the images\n",
    "for img_path in images_folder:\n",
    "    print(\"Img path\", img_path)\n",
    "    img = cv2.imread(img_path)\n",
    "\n",
    "    vehicle_boxes = vd.detect_vehicles(img)\n",
    "    vehicle_count = len(vehicle_boxes)\n",
    "\n",
    "    # Update total count\n",
    "    vehicles_folder_count += vehicle_count\n",
    "\n",
    "    for box in vehicle_boxes:\n",
    "        x, y, w, h = box\n",
    "\n",
    "        cv2.rectangle(img, (x, y), (x + w, y + h), (25, 0, 180), 3)\n",
    "\n",
    "        cv2.putText(img, \"Vehicles: \" + str(vehicle_count), (20, 50), 0, 2, (100, 200, 0), 3)\n",
    "\n",
    "    cv2.imshow(\"Cars\", img)\n",
    "    cv2.waitKey(1)\n",
    "\n",
    "print(\"Total current count\", vehicles_folder_count)"
   ]
  },
  {
   "cell_type": "code",
   "execution_count": null,
   "id": "e43c183c",
   "metadata": {},
   "outputs": [],
   "source": []
  }
 ],
 "metadata": {
  "kernelspec": {
   "display_name": "Python 3 (ipykernel)",
   "language": "python",
   "name": "python3"
  },
  "language_info": {
   "codemirror_mode": {
    "name": "ipython",
    "version": 3
   },
   "file_extension": ".py",
   "mimetype": "text/x-python",
   "name": "python",
   "nbconvert_exporter": "python",
   "pygments_lexer": "ipython3",
   "version": "3.9.12"
  }
 },
 "nbformat": 4,
 "nbformat_minor": 5
}
